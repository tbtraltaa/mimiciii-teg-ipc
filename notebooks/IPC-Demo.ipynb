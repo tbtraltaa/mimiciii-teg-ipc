{
 "cells": [
  {
   "cell_type": "code",
   "execution_count": 99,
   "id": "3fc7c45d",
   "metadata": {},
   "outputs": [],
   "source": [
    "from pygraphblas import *\n",
    "from pygraphblas import lib\n",
    "from pygraphblas.types import Type, binop\n",
    "#from pygraphblas.gviz import draw, draw_vis, draw_vector, draw_matrix\n",
    "import numpy as np\n",
    "import pprint\n",
    "from pyvis import network as net\n",
    "\n",
    "import this\n",
    "options_set(nthreads=12)\n",
    "DECIMALS = 9"
   ]
  },
  {
   "cell_type": "code",
   "execution_count": 100,
   "id": "5f8aec90",
   "metadata": {},
   "outputs": [
    {
     "name": "stdout",
     "output_type": "stream",
     "text": [
      "graph.html\n"
     ]
    },
    {
     "data": {
      "text/html": [
       "\n",
       "        <iframe\n",
       "            width=\"100%\"\n",
       "            height=\"600px\"\n",
       "            src=\"graph.html\"\n",
       "            frameborder=\"0\"\n",
       "            allowfullscreen\n",
       "            \n",
       "        ></iframe>\n",
       "        "
      ],
      "text/plain": [
       "<IPython.lib.display.IFrame at 0x7fd200bb2f40>"
      ]
     },
     "execution_count": 100,
     "metadata": {},
     "output_type": "execute_result"
    }
   ],
   "source": [
    "\n",
    "\n",
    "class GS(Type):\n",
    "\n",
    "    _base_name = \"UDT\"\n",
    "    _numpy_t = None\n",
    "    members = ['double w', 'int64_t n']\n",
    "    one = (np.float64('inf'), np.int64(0))\n",
    "    # equal operation is not working with \"iseq\" operation, D.iseq(D1)\n",
    "    @binop(boolean=True)\n",
    "    def EQ(z, x, y):\n",
    "        if np.round(x.w, DECIMALS) == np.round(y.w, DECIMALS) and x.n == y.n:\n",
    "            z = True\n",
    "        else:\n",
    "            z = False\n",
    "\n",
    "    @binop()\n",
    "    def PLUS(z, x, y):\n",
    "        if np.round(x.w, DECIMALS) < np.round(y.w, DECIMALS):\n",
    "            z.w = x.w\n",
    "            z.n = x.n\n",
    "        elif np.round(x.w, DECIMALS) == np.round(y.w, DECIMALS):\n",
    "            z.w = x.w\n",
    "            z.n = x.n + y.n\n",
    "        else:\n",
    "            z.w = y.w\n",
    "            z.n = y.n\n",
    "\n",
    "    @binop()\n",
    "    def TIMES(z, x, y):\n",
    "        z.w = x.w + y.w\n",
    "        z.n = x.n * y.n\n",
    "\n",
    "GS_monoid = GS.new_monoid(GS.PLUS, GS.one)\n",
    "GS_semiring = GS.new_semiring(GS_monoid, GS.TIMES)\n",
    "\n",
    "def shortest_path(matrix, start):\n",
    "    n = matrix.nrows\n",
    "    v = Vector.sparse(matrix.type, n)\n",
    "    for i, j, k in matrix:\n",
    "        if i == j:\n",
    "            matrix[i,j] = (float('inf'), 0)\n",
    "        else:\n",
    "            matrix[i,j] = (k[0], 1)        \n",
    "    v = matrix.extract_row(start)\n",
    "    v_k = matrix.extract_row(start)\n",
    "    with GS_semiring:\n",
    "        for _ in range(matrix.nrows+1):\n",
    "            v_k = v_k @ matrix\n",
    "            v = v + v_k\n",
    "    return v\n",
    "\n",
    "A = Matrix.sparse(GS, 6, 6)\n",
    "A[0,1] = (9.0, 1)\n",
    "A[0,3] = (3.0, 1)\n",
    "A[0,5] = (4.0, 1)\n",
    "A[1,2] = (8.0, 1)\n",
    "A[3,4] = (6.0, 1)\n",
    "A[3,5] = (1.0, 1)\n",
    "A[4,2] = (4.0, 1)\n",
    "A[1,5] = (7.0, 1)\n",
    "A[5,4] = (2.0, 1)\n",
    "\n",
    "N = net.Network(notebook=True, directed=True, cdn_resources='in_line')\n",
    "for i, j, v in A:\n",
    "    N.add_node(i, label=str(i), shape='circle')\n",
    "    N.add_node(j, label=str(j), shape='circle')\n",
    "    N.add_edge(i, j, label=str(v[0]))\n",
    "N.show('graph.html')"
   ]
  },
  {
   "cell_type": "code",
   "execution_count": 101,
   "id": "621fa347",
   "metadata": {},
   "outputs": [],
   "source": [
    "# g = draw(A, label_vector=shortest_path(A, 0))\n",
    "def shortest_path_FW(matrix):\n",
    "    n = matrix.nrows\n",
    "    v = Vector.sparse(matrix.type, n)\n",
    "    for i, j, k in matrix:\n",
    "        if i == j:\n",
    "            matrix[i,j] = (float('inf'), 0)\n",
    "        else:\n",
    "            matrix[i,j] = (k[0], 1)        \n",
    "    D_k = matrix.dup()\n",
    "    D = matrix.dup()\n",
    "    with GS_semiring:\n",
    "        for _ in range(matrix.nrows):\n",
    "            D_k @= matrix\n",
    "            D += D_k\n",
    "    return D"
   ]
  },
  {
   "cell_type": "code",
   "execution_count": 102,
   "id": "1cccdc51",
   "metadata": {},
   "outputs": [],
   "source": [
    "def shortest_path_FW_early_stop(matrix):\n",
    "    n = matrix.nrows\n",
    "    v = Vector.sparse(matrix.type, n)\n",
    "    for i, j, k in matrix:\n",
    "        if i == j:\n",
    "            matrix[i,j] = (float('inf'), 0)\n",
    "        else:\n",
    "            matrix[i,j] = (k[0], 1)        \n",
    "    D_k = matrix.dup()\n",
    "    D = matrix.dup()\n",
    "    D_prev = matrix.dup()\n",
    "    with GS_semiring:\n",
    "        while True:\n",
    "            D_prev = D.dup()\n",
    "            D_k @= matrix\n",
    "            D += D_k\n",
    "            if D.iseq(D_prev):\n",
    "                break\n",
    "    return D"
   ]
  },
  {
   "cell_type": "code",
   "execution_count": 103,
   "id": "7984a5dd",
   "metadata": {},
   "outputs": [],
   "source": [
    "D = shortest_path_FW(A)"
   ]
  },
  {
   "cell_type": "code",
   "execution_count": 104,
   "id": "49c535b5",
   "metadata": {},
   "outputs": [
    {
     "name": "stdout",
     "output_type": "stream",
     "text": [
      "0 1 (9.0, 1)\n",
      "0 2 (10.0, 2)\n",
      "0 3 (3.0, 1)\n",
      "0 4 (6.0, 2)\n",
      "0 5 (4.0, 2)\n",
      "1 2 (8.0, 1)\n",
      "1 4 (9.0, 1)\n",
      "1 5 (7.0, 1)\n",
      "3 2 (7.0, 1)\n",
      "3 4 (3.0, 1)\n",
      "3 5 (1.0, 1)\n",
      "4 2 (4.0, 1)\n",
      "5 2 (6.0, 1)\n",
      "5 4 (2.0, 1)\n"
     ]
    }
   ],
   "source": [
    "for i, j, k in D:\n",
    "    print(i, j, D[i, j])\n",
    "# i, j, shortest path distance, number of shortest paths"
   ]
  },
  {
   "cell_type": "code",
   "execution_count": 105,
   "id": "ff8260c5",
   "metadata": {},
   "outputs": [
    {
     "name": "stdout",
     "output_type": "stream",
     "text": [
      "0 1 (9.0, 1)\n",
      "0 2 (10.0, 1)\n",
      "0 3 (3.0, 1)\n",
      "0 4 (6.0, 2)\n",
      "0 5 (4.0, 2)\n",
      "1 2 (8.0, 1)\n",
      "1 4 (9.0, 1)\n",
      "1 5 (7.0, 1)\n",
      "3 2 (7.0, 1)\n",
      "3 4 (3.0, 1)\n",
      "3 5 (1.0, 1)\n",
      "4 2 (4.0, 1)\n",
      "5 2 (6.0, 1)\n",
      "5 4 (2.0, 1)\n",
      "True\n"
     ]
    }
   ],
   "source": [
    "D1 = shortest_path_FW_early_stop(A)\n",
    "for i, j, k in D1:\n",
    "    print(i, j, D1[i, j])\n",
    "with GS_semiring:\n",
    "    print(D.iseq(D1))"
   ]
  },
  {
   "cell_type": "code",
   "execution_count": 106,
   "id": "809fb086",
   "metadata": {},
   "outputs": [
    {
     "name": "stdout",
     "output_type": "stream",
     "text": [
      "graph_shortest_paths.html\n"
     ]
    },
    {
     "data": {
      "text/html": [
       "\n",
       "        <iframe\n",
       "            width=\"100%\"\n",
       "            height=\"300\"\n",
       "            src=\"graph_shortest_paths.html\"\n",
       "            frameborder=\"0\"\n",
       "            allowfullscreen\n",
       "            \n",
       "        ></iframe>\n",
       "        "
      ],
      "text/plain": [
       "<IPython.lib.display.IFrame at 0x7fd230916160>"
      ]
     },
     "execution_count": 106,
     "metadata": {},
     "output_type": "execute_result"
    }
   ],
   "source": [
    "N = net.Network(notebook=True, directed=True, height=300, cdn_resources='in_line')\n",
    "labels = {}\n",
    "# i, j, shortest path distance, number of shortest paths\n",
    "for i, j, v in D:\n",
    "    if j not in labels:\n",
    "        \n",
    "        labels[j] = [f\"({i},{j},{v[0]},{v[1]})\"]\n",
    "    else:\n",
    "        labels[j].append(f\"({i},{j},{v[0]},{v[1]})\")\n",
    "for i, j, v in A:\n",
    "    if i in labels:\n",
    "        N.add_node(i, label='\\n'.join(labels[i]), shape='circle')\n",
    "    else:\n",
    "        N.add_node(i, label=str(i), shape='circle')\n",
    "    if j in labels:\n",
    "        N.add_node(j, label='\\n'.join(labels[j]), shape='circle')\n",
    "    else:\n",
    "        N.add_node(j, label=str(j), shape='circle')\n",
    "    N.add_edge(i, j, label=str(v))     \n",
    "N.show('graph_shortest_paths.html')"
   ]
  },
  {
   "cell_type": "code",
   "execution_count": 107,
   "id": "ffe6b512",
   "metadata": {},
   "outputs": [],
   "source": [
    "def algebraic_IPC(Adj, x):\n",
    "    global DECIMALS\n",
    "    x = x.astype(np.float64)\n",
    "    n = Adj.shape[0]\n",
    "    A = Matrix.sparse(GS, n, n)\n",
    "    w_s_r = np.float64(0)\n",
    "    w_v = np.zeros(n, dtype=np.float64)\n",
    "    # compute relative contribution coefficients (weights)\n",
    "    for s in range(n):\n",
    "        for r in range(n):\n",
    "            if x[r] - x[s] > 0:\n",
    "                w_s_r += x[r] - x[s]\n",
    "                w_v[s] += x[r] - x[s]\n",
    "                w_v[r] += x[r] - x[s]\n",
    "    for k, v in Adj.items():\n",
    "        i = k[0]\n",
    "        j = k[1]\n",
    "        if i == j:\n",
    "            A[i,j] = (np.float64('inf'), np.int64(0))\n",
    "        else:\n",
    "            A[i,j] = (float(v), np.int64(1))\n",
    "    D = shortest_path_FW(A)\n",
    "    #C = Vector.sparse(FP64, n)  \n",
    "    C = np.zeros(n, dtype=np.float64)\n",
    "    for v in range(n):\n",
    "        for s in D.extract_col(v).indices:\n",
    "            for r in D.extract_row(v).indices:\n",
    "                if x[r] - x[s] <= 0:\n",
    "                    continue\n",
    "                elif s == v or r == v or s == r:\n",
    "                    continue\n",
    "                elif np.round(D[s, r][0], DECIMALS) == np.round(D[s, v][0] + D[v, r][0], DECIMALS):\n",
    "                    w_v_sr = (x[r] - x[s]) / (w_s_r - w_v[v]) \n",
    "                    C[v] += np.float64(D[s, v][1] * D[v, r][1]) / np.float64(D[s, r][1]) * w_v_sr\n",
    "    return C"
   ]
  },
  {
   "cell_type": "code",
   "execution_count": 108,
   "id": "6deba255",
   "metadata": {},
   "outputs": [
    {
     "name": "stdout",
     "output_type": "stream",
     "text": [
      "[0.    0.    0.    0.125 0.75  0.5  ]\n"
     ]
    }
   ],
   "source": [
    "from scipy.sparse import dok_matrix\n",
    "\n",
    "Adj = dok_matrix((6, 6), dtype=float) \n",
    "Adj[0,1] = 9.0\n",
    "Adj[0,3] = 3.0\n",
    "Adj[0,5] = 4.0\n",
    "Adj[1,2] = 8.0\n",
    "Adj[3,4] = 6.0\n",
    "Adj[3,5] = 1.0\n",
    "Adj[4,2] = 4.0\n",
    "Adj[1,5] = 7.0\n",
    "Adj[5,4] = 2.0\n",
    "\n",
    "states = np.array([0, 0, 0.4, 0, 0, 0])\n",
    "IPC = algebraic_IPC(Adj, states)\n",
    "print(IPC)"
   ]
  },
  {
   "cell_type": "code",
   "execution_count": 109,
   "id": "1f4ee5d3",
   "metadata": {},
   "outputs": [],
   "source": [
    "def algebraic_IPC_with_paths(Adj, x):\n",
    "    x = x.astype(np.float64)\n",
    "    n = Adj.shape[0]\n",
    "    A = Matrix.sparse(GS, n, n)\n",
    "    A1 = Matrix.sparse(FP64, n, n)\n",
    "    w_s_r = np.float64(0)\n",
    "    w_v = np.zeros(n, dtype=np.float64)\n",
    "    # compute relative contribution coefficients (weights)\n",
    "    for s in range(n):\n",
    "        for r in range(n):\n",
    "            if x[r] - x[s] > 0:\n",
    "                w_s_r += x[r] - x[s]\n",
    "                w_v[s] += x[r] - x[s]\n",
    "                w_v[r] += x[r] - x[s]\n",
    "    for k, v in Adj.items():\n",
    "        i = k[0]\n",
    "        j = k[1]\n",
    "        if i == j:\n",
    "            A[i, j] = (np.float64('inf'), np.int64(0))\n",
    "        else:\n",
    "            A[i, j] = (v, np.int64(1))\n",
    "            A1[i,j] = np.float64(v)\n",
    "    D = shortest_path_FW(A)\n",
    "    D1 = Matrix.sparse(FP64, n, n)\n",
    "    for i, j, v in D:\n",
    "        D1[i,j] = v[0]\n",
    "    print(A1)\n",
    "    print(D1)\n",
    "    pred = dict()\n",
    "    with FP64.plus:\n",
    "        for i in range(n):\n",
    "            pred[i] = dict()\n",
    "            d = D1.extract_row(i)\n",
    "            d[i] = 0\n",
    "            for j in d.indices:\n",
    "                col_j = A1.extract_col(j)\n",
    "                col_j.emult(d, mult_op=FP64.plus, out=col_j)\n",
    "                #pred_j = list((col_j == d[j]).indices)\n",
    "                #if pred_j:\n",
    "                pred[i][j] = []\n",
    "                for v in col_j.indices:\n",
    "                    if np.round(col_j[v], DECIMALS) == np.round(d[j], DECIMALS):\n",
    "                        pred[i][j].append(v)\n",
    "    C = np.zeros(n, dtype=np.float64)\n",
    "    paths = dict()\n",
    "    v_paths = dict()\n",
    "    for v in range(n):\n",
    "        for s in D.extract_col(v).indices:\n",
    "            for r in D.extract_row(v).indices:\n",
    "                if x[r] - x[s] <= 0:\n",
    "                    continue\n",
    "                elif s == v or r == v or s == r:\n",
    "                    continue\n",
    "                elif np.round(D[s, r][0], DECIMALS) == np.round(D[s, v][0] + D[v, r][0], DECIMALS):\n",
    "                    w_v_sr = (x[r] - x[s]) / (w_s_r - w_v[v]) \n",
    "                    C[v] += np.float64(D[s, v][1] * D[v, r][1]) / np.float64(D[s, r][1]) * w_v_sr\n",
    "                    if (s, r) not in paths:\n",
    "                        paths[(s, r)] = st_paths(pred[s], s, r)\n",
    "                    if v not in v_paths:\n",
    "                        v_paths[v] = set()\n",
    "                    #for p in paths[(s, r)]:\n",
    "                    #    if v in p:\n",
    "                    #        v_paths[v].append(p)\n",
    "                    sv_paths = st_paths(pred[s], s, v)\n",
    "                    vr_paths = st_paths(pred[s], v, r)\n",
    "                    for p1 in sv_paths:\n",
    "                        for p2 in vr_paths:\n",
    "                            v_paths[v].add(tuple(p1 + p2[1:]))\n",
    "    return C, v_paths, paths, pred\n",
    "\n",
    "\n",
    "def st_paths(pred, s, t):\n",
    "    stack = [[t, 0]]\n",
    "    top = 0\n",
    "    paths = []\n",
    "    while top >= 0:\n",
    "        node, i = stack[top]\n",
    "        if node == s:\n",
    "            paths.append([p for p, n in reversed(stack[:top+1])])\n",
    "        if node not in pred:\n",
    "            continue\n",
    "        if len(pred[node]) > i:\n",
    "            top += 1\n",
    "            if top == len(stack):\n",
    "                stack.append([pred[node][i],0])\n",
    "            else:\n",
    "                stack[top] = [pred[node][i],0]\n",
    "        else:\n",
    "            stack[top-1][1] += 1\n",
    "            top -= 1\n",
    "    return paths"
   ]
  },
  {
   "cell_type": "code",
   "execution_count": 110,
   "id": "046bf061",
   "metadata": {},
   "outputs": [
    {
     "name": "stdout",
     "output_type": "stream",
     "text": [
      "      0  1  2  3  4  5\n",
      "  0|   9.0   3.0   4.0|  0\n",
      "  1|      8.0      7.0|  1\n",
      "  2|                  |  2\n",
      "  3|            6.01.0|  3\n",
      "  4|      4.0         |  4\n",
      "  5|            2.0   |  5\n",
      "      0  1  2  3  4  5\n",
      "      0  1  2  3  4  5\n",
      "  0|   9.010.03.06.04.0|  0\n",
      "  1|      8.0   9.07.0|  1\n",
      "  2|                  |  2\n",
      "  3|      7.0   3.01.0|  3\n",
      "  4|      4.0         |  4\n",
      "  5|      6.0   2.0   |  5\n",
      "      0  1  2  3  4  5\n",
      "Centrality\n",
      "array([0.   , 0.   , 0.   , 0.125, 0.75 , 0.5  ])\n",
      "Predecessors\n",
      "{0: {0: [], 1: [0], 2: [4], 3: [0], 4: [5], 5: [0, 3]},\n",
      " 1: {1: [], 2: [1], 4: [5], 5: [1]},\n",
      " 2: {2: []},\n",
      " 3: {2: [4], 3: [], 4: [5], 5: [3]},\n",
      " 4: {2: [4], 4: []},\n",
      " 5: {2: [4], 4: [5], 5: []}}\n",
      "Shortest Inverse Percolation Paths through v\n",
      "{3: {(0, 3, 5, 4, 2)},\n",
      " 4: {(5, 4, 2), (3, 5, 4, 2), (0, 5, 4, 2), (0, 3, 5, 4, 2)},\n",
      " 5: {(3, 5, 4, 2), (0, 5, 4, 2), (0, 3, 5, 4, 2)}}\n",
      "Shortest Inverse Percolation Paths\n",
      "{(0, 2): [[0, 5, 4, 2], [0, 3, 5, 4, 2]],\n",
      " (3, 2): [[3, 5, 4, 2]],\n",
      " (5, 2): [[5, 4, 2]]}\n"
     ]
    }
   ],
   "source": [
    "C, v_paths, paths, pred = algebraic_IPC_with_paths(Adj, states)\n",
    "print('Centrality')\n",
    "pprint.pprint(C)\n",
    "print('Predecessors')\n",
    "pprint.pprint(pred)\n",
    "print('Shortest Inverse Percolation Paths through v')\n",
    "pprint.pprint(v_paths)\n",
    "print('Shortest Inverse Percolation Paths')\n",
    "pprint.pprint(paths)"
   ]
  },
  {
   "cell_type": "code",
   "execution_count": 111,
   "id": "e066ff62",
   "metadata": {},
   "outputs": [
    {
     "name": "stdout",
     "output_type": "stream",
     "text": [
      "sssp_s_0.html\n"
     ]
    },
    {
     "data": {
      "text/html": [
       "\n",
       "        <iframe\n",
       "            width=\"100%\"\n",
       "            height=\"300\"\n",
       "            src=\"sssp_s_0.html\"\n",
       "            frameborder=\"0\"\n",
       "            allowfullscreen\n",
       "            \n",
       "        ></iframe>\n",
       "        "
      ],
      "text/plain": [
       "<IPython.lib.display.IFrame at 0x7fd200c028b0>"
      ]
     },
     "execution_count": 111,
     "metadata": {},
     "output_type": "execute_result"
    }
   ],
   "source": [
    "# Shortest path tree rooted at 0.\n",
    "s = 0\n",
    "if s in pred:\n",
    "    N = net.Network(notebook=True, directed=True, height=300, cdn_resources='in_line')\n",
    "    for k, val in Adj.items():\n",
    "        i = k[0]\n",
    "        j = k[1]\n",
    "        N.add_node(i, label=str(i), shape='circle')\n",
    "        N.add_node(j, label=str(j), shape='circle')\n",
    "        if j not in pred[s]:\n",
    "            continue\n",
    "        if i in pred[s][j]:\n",
    "            N.add_edge(i, j, label=str(val))     \n",
    "N.show('sssp_s_0.html')\n"
   ]
  },
  {
   "cell_type": "code",
   "execution_count": 112,
   "id": "dd26134b",
   "metadata": {},
   "outputs": [
    {
     "name": "stdout",
     "output_type": "stream",
     "text": [
      "sssp_s_1.html\n"
     ]
    },
    {
     "data": {
      "text/html": [
       "\n",
       "        <iframe\n",
       "            width=\"100%\"\n",
       "            height=\"300\"\n",
       "            src=\"sssp_s_1.html\"\n",
       "            frameborder=\"0\"\n",
       "            allowfullscreen\n",
       "            \n",
       "        ></iframe>\n",
       "        "
      ],
      "text/plain": [
       "<IPython.lib.display.IFrame at 0x7fd200aa4c40>"
      ]
     },
     "execution_count": 112,
     "metadata": {},
     "output_type": "execute_result"
    }
   ],
   "source": [
    "# Shortest path tree rooted at 1.\n",
    "s = 1\n",
    "if s in pred:\n",
    "    N = net.Network(notebook=True, directed=True, height=300, cdn_resources='in_line')\n",
    "    for k, val in Adj.items():\n",
    "        i = k[0]\n",
    "        j = k[1]\n",
    "        N.add_node(i, label=str(i), shape='circle')\n",
    "        N.add_node(j, label=str(j), shape='circle')\n",
    "        if j not in pred[s]:\n",
    "            continue\n",
    "        if i in pred[s][j]:\n",
    "            N.add_edge(i, j, label=str(val))     \n",
    "N.show('sssp_s_1.html')"
   ]
  },
  {
   "cell_type": "code",
   "execution_count": 113,
   "id": "1cbf4b9e",
   "metadata": {},
   "outputs": [
    {
     "name": "stdout",
     "output_type": "stream",
     "text": [
      "sssp_s_2.html\n"
     ]
    },
    {
     "data": {
      "text/html": [
       "\n",
       "        <iframe\n",
       "            width=\"100%\"\n",
       "            height=\"300\"\n",
       "            src=\"sssp_s_2.html\"\n",
       "            frameborder=\"0\"\n",
       "            allowfullscreen\n",
       "            \n",
       "        ></iframe>\n",
       "        "
      ],
      "text/plain": [
       "<IPython.lib.display.IFrame at 0x7fd200a28460>"
      ]
     },
     "execution_count": 113,
     "metadata": {},
     "output_type": "execute_result"
    }
   ],
   "source": [
    "# Shortest path tree rooted at 2.\n",
    "s = 2\n",
    "if s in pred:\n",
    "    N = net.Network(notebook=True, directed=True, height=300, cdn_resources='in_line')\n",
    "    for k, val in Adj.items():\n",
    "        i = k[0]\n",
    "        j = k[1]\n",
    "        N.add_node(i, label=str(i), shape='circle')\n",
    "        N.add_node(j, label=str(j), shape='circle')\n",
    "        if j not in pred[s]:\n",
    "            continue\n",
    "        if i in pred[s][j]:\n",
    "            N.add_edge(i, j, label=str(val))     \n",
    "N.show('sssp_s_2.html')"
   ]
  },
  {
   "cell_type": "code",
   "execution_count": 114,
   "id": "f34eb31f",
   "metadata": {},
   "outputs": [
    {
     "name": "stdout",
     "output_type": "stream",
     "text": [
      "sssp_s_3.html\n"
     ]
    },
    {
     "data": {
      "text/html": [
       "\n",
       "        <iframe\n",
       "            width=\"100%\"\n",
       "            height=\"300\"\n",
       "            src=\"sssp_s_3.html\"\n",
       "            frameborder=\"0\"\n",
       "            allowfullscreen\n",
       "            \n",
       "        ></iframe>\n",
       "        "
      ],
      "text/plain": [
       "<IPython.lib.display.IFrame at 0x7fd200a23ca0>"
      ]
     },
     "execution_count": 114,
     "metadata": {},
     "output_type": "execute_result"
    }
   ],
   "source": [
    "# Shortest path tree rooted at 3.\n",
    "s = 3\n",
    "if s in pred:\n",
    "    N = net.Network(notebook=True, directed=True, height=300, cdn_resources='in_line')\n",
    "    for k, val in Adj.items():\n",
    "        i = k[0]\n",
    "        j = k[1]\n",
    "        N.add_node(i, label=str(i), shape='circle')\n",
    "        N.add_node(j, label=str(j), shape='circle')\n",
    "        if j not in pred[s]:\n",
    "            continue\n",
    "        if i in pred[s][j]:\n",
    "            N.add_edge(i, j, label=str(val))     \n",
    "N.show('sssp_s_3.html')"
   ]
  },
  {
   "cell_type": "code",
   "execution_count": 115,
   "id": "ea3f1017",
   "metadata": {},
   "outputs": [
    {
     "name": "stdout",
     "output_type": "stream",
     "text": [
      "sssp_s_4.html\n"
     ]
    },
    {
     "data": {
      "text/html": [
       "\n",
       "        <iframe\n",
       "            width=\"100%\"\n",
       "            height=\"300\"\n",
       "            src=\"sssp_s_4.html\"\n",
       "            frameborder=\"0\"\n",
       "            allowfullscreen\n",
       "            \n",
       "        ></iframe>\n",
       "        "
      ],
      "text/plain": [
       "<IPython.lib.display.IFrame at 0x7fd1e0708bb0>"
      ]
     },
     "execution_count": 115,
     "metadata": {},
     "output_type": "execute_result"
    }
   ],
   "source": [
    "# Shortest path tree rooted at 4.\n",
    "s = 4\n",
    "if s in pred:\n",
    "    N = net.Network(notebook=True, directed=True, height=300, cdn_resources='in_line')\n",
    "    for k, val in Adj.items():\n",
    "        i = k[0]\n",
    "        j = k[1]\n",
    "        N.add_node(i, label=str(i), shape='circle')\n",
    "        N.add_node(j, label=str(j), shape='circle')\n",
    "        if j not in pred[s]:\n",
    "            continue\n",
    "        if i in pred[s][j]:\n",
    "            N.add_edge(i, j, label=str(val))     \n",
    "N.show('sssp_s_4.html')"
   ]
  },
  {
   "cell_type": "code",
   "execution_count": 116,
   "id": "ce8eaf91",
   "metadata": {},
   "outputs": [
    {
     "name": "stdout",
     "output_type": "stream",
     "text": [
      "sssp_s_5.html\n"
     ]
    },
    {
     "data": {
      "text/html": [
       "\n",
       "        <iframe\n",
       "            width=\"100%\"\n",
       "            height=\"300\"\n",
       "            src=\"sssp_s_5.html\"\n",
       "            frameborder=\"0\"\n",
       "            allowfullscreen\n",
       "            \n",
       "        ></iframe>\n",
       "        "
      ],
      "text/plain": [
       "<IPython.lib.display.IFrame at 0x7fd200c445e0>"
      ]
     },
     "execution_count": 116,
     "metadata": {},
     "output_type": "execute_result"
    }
   ],
   "source": [
    "# Shortest path tree rooted at 5.\n",
    "s = 5\n",
    "if s in pred:\n",
    "    N = net.Network(notebook=True, directed=True, height=300, cdn_resources='in_line')\n",
    "    for k, val in Adj.items():\n",
    "        i = k[0]\n",
    "        j = k[1]\n",
    "        N.add_node(i, label=str(i), shape='circle')\n",
    "        N.add_node(j, label=str(j), shape='circle')\n",
    "        if j not in pred[s]:\n",
    "            continue\n",
    "        if i in pred[s][j]:\n",
    "            N.add_edge(i, j, label=str(val))     \n",
    "N.show('sssp_s_5.html')"
   ]
  }
 ],
 "metadata": {
  "kernelspec": {
   "display_name": "Python 3 (ipykernel)",
   "language": "python",
   "name": "python3"
  },
  "language_info": {
   "codemirror_mode": {
    "name": "ipython",
    "version": 3
   },
   "file_extension": ".py",
   "mimetype": "text/x-python",
   "name": "python",
   "nbconvert_exporter": "python",
   "pygments_lexer": "ipython3",
   "version": "3.9.18"
  }
 },
 "nbformat": 4,
 "nbformat_minor": 5
}
