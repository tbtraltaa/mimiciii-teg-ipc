{
 "cells": [
  {
   "cell_type": "code",
   "execution_count": 113,
   "id": "3fc7c45d",
   "metadata": {},
   "outputs": [],
   "source": [
    "from pygraphblas import *\n",
    "from pygraphblas import lib\n",
    "from pygraphblas.types import Type, binop\n",
    "from pygraphblas.gviz import draw, draw_vis, draw_vector, draw_matrix\n",
    "import numpy as np\n",
    "import pprint\n",
    "from pyvis import network as net\n",
    "import networkx as nx\n",
    "import scipy as sp\n",
    "import copy\n",
    "\n",
    "import this\n",
    "options_set(nthreads=8)"
   ]
  },
  {
   "cell_type": "code",
   "execution_count": 114,
   "id": "5f8aec90",
   "metadata": {},
   "outputs": [
    {
     "name": "stdout",
     "output_type": "stream",
     "text": [
      "Warning: When  cdn_resources is 'local' jupyter notebook has issues displaying graphics on chrome/safari. Use cdn_resources='in_line' or cdn_resources='remote' if you have issues viewing graphics in a notebook.\n",
      "graph.html\n"
     ]
    },
    {
     "data": {
      "text/html": [
       "\n",
       "        <iframe\n",
       "            width=\"100%\"\n",
       "            height=\"600px\"\n",
       "            src=\"graph.html\"\n",
       "            frameborder=\"0\"\n",
       "            allowfullscreen\n",
       "            \n",
       "        ></iframe>\n",
       "        "
      ],
      "text/plain": [
       "<IPython.lib.display.IFrame at 0x7fecb2b88f70>"
      ]
     },
     "execution_count": 114,
     "metadata": {},
     "output_type": "execute_result"
    }
   ],
   "source": [
    "class GS(Type):\n",
    "\n",
    "    _base_name = \"UDT\"\n",
    "    _numpy_t = None\n",
    "    members = ['double w', 'uint64_t n']\n",
    "    one = (float('inf'), 0)\n",
    "    # equal operation is not working with \"iseq\" operation, D.iseq(D1)\n",
    "    @binop(boolean=True)\n",
    "    def EQ(z, x, y):\n",
    "        if x.w == y.w and x.n == y.n:\n",
    "            z = True\n",
    "        else:\n",
    "            z = False\n",
    "\n",
    "    @binop()\n",
    "    def PLUS(z, x, y):\n",
    "        if x.w < y.w:\n",
    "            z.w = x.w\n",
    "            z.n = x.n\n",
    "        elif x.w == y.w:\n",
    "            z.w = x.w\n",
    "            z.n = x.n + y.n\n",
    "        else:\n",
    "            z.w = y.w\n",
    "            z.n = y.n\n",
    "\n",
    "    @binop()\n",
    "    def TIMES(z, x, y):\n",
    "        z.w = x.w + y.w\n",
    "        z.n = x.n * y.n\n",
    "\n",
    "GS_monoid = GS.new_monoid(GS.PLUS, GS.one)\n",
    "GS_semiring = GS.new_semiring(GS_monoid, GS.TIMES)\n",
    "\n",
    "def shortest_path(matrix, start):\n",
    "    n = matrix.nrows\n",
    "    v = Vector.sparse(matrix.type, n)\n",
    "    for i, j, k in matrix:\n",
    "        if i == j:\n",
    "            matrix[i,j] = (float('inf'), 0)\n",
    "        else:\n",
    "            matrix[i,j] = (k[0], 1)        \n",
    "    v = matrix.extract_row(start)\n",
    "    v_k = matrix.extract_row(start)\n",
    "    with GS_semiring:\n",
    "        for _ in range(matrix.nrows + 1):\n",
    "            v_k = v_k @ matrix\n",
    "            v = v + v_k\n",
    "    return v\n",
    "\n",
    "A = Matrix.sparse(GS, 6, 6)\n",
    "A[0,1] = (9.0, 1)\n",
    "A[0,3] = (3.0, 1)\n",
    "A[0,5] = (4.0, 1)\n",
    "A[1,2] = (8.0, 1)\n",
    "A[3,4] = (6.0, 1)\n",
    "A[3,5] = (1.0, 1)\n",
    "A[4,2] = (4.0, 1)\n",
    "A[1,5] = (7.0, 1)\n",
    "A[5,4] = (2.0, 1)\n",
    "\n",
    "N = net.Network(notebook=True, directed=True)\n",
    "for i, j, v in A:\n",
    "    N.add_node(i, label=str(i), shape='circle')\n",
    "    N.add_node(j, label=str(j), shape='circle')\n",
    "    N.add_edge(i, j, label=str(v[0]))\n",
    "N.show('graph.html')"
   ]
  },
  {
   "cell_type": "code",
   "execution_count": 115,
   "id": "61cfd07a",
   "metadata": {},
   "outputs": [],
   "source": [
    "g = draw(A, label_vector=shortest_path(A, 0))"
   ]
  },
  {
   "cell_type": "code",
   "execution_count": 116,
   "id": "621fa347",
   "metadata": {},
   "outputs": [],
   "source": [
    "def shortest_path_FW(matrix):\n",
    "    n = matrix.nrows\n",
    "    v = Vector.sparse(matrix.type, n)\n",
    "    for i, j, k in matrix:\n",
    "        if i == j:\n",
    "            matrix[i,j] = (float('inf'), 0)\n",
    "        else:\n",
    "            matrix[i,j] = (k[0], 1)        \n",
    "    D_k = matrix.dup()\n",
    "    D = matrix.dup()\n",
    "    with GS_semiring:\n",
    "        for _ in range(matrix.nrows):\n",
    "            D_k @= matrix\n",
    "            D += D_k\n",
    "    return D"
   ]
  },
  {
   "cell_type": "code",
   "execution_count": 117,
   "id": "7984a5dd",
   "metadata": {},
   "outputs": [],
   "source": [
    "D = shortest_path_FW(A)"
   ]
  },
  {
   "cell_type": "code",
   "execution_count": 118,
   "id": "49c535b5",
   "metadata": {},
   "outputs": [
    {
     "name": "stdout",
     "output_type": "stream",
     "text": [
      "0 1 (9.0, 1)\n",
      "0 2 (10.0, 2)\n",
      "0 3 (3.0, 1)\n",
      "0 4 (6.0, 2)\n",
      "0 5 (4.0, 2)\n",
      "1 2 (8.0, 1)\n",
      "1 4 (9.0, 1)\n",
      "1 5 (7.0, 1)\n",
      "3 2 (7.0, 1)\n",
      "3 4 (3.0, 1)\n",
      "3 5 (1.0, 1)\n",
      "4 2 (4.0, 1)\n",
      "5 2 (6.0, 1)\n",
      "5 4 (2.0, 1)\n"
     ]
    }
   ],
   "source": [
    "for i, j, k in D:\n",
    "    print(i, j, D[i, j])"
   ]
  },
  {
   "cell_type": "code",
   "execution_count": 119,
   "id": "809fb086",
   "metadata": {},
   "outputs": [
    {
     "name": "stdout",
     "output_type": "stream",
     "text": [
      "Warning: When  cdn_resources is 'local' jupyter notebook has issues displaying graphics on chrome/safari. Use cdn_resources='in_line' or cdn_resources='remote' if you have issues viewing graphics in a notebook.\n",
      "graph.html\n"
     ]
    },
    {
     "data": {
      "text/html": [
       "\n",
       "        <iframe\n",
       "            width=\"100%\"\n",
       "            height=\"300\"\n",
       "            src=\"graph.html\"\n",
       "            frameborder=\"0\"\n",
       "            allowfullscreen\n",
       "            \n",
       "        ></iframe>\n",
       "        "
      ],
      "text/plain": [
       "<IPython.lib.display.IFrame at 0x7fec90a76130>"
      ]
     },
     "execution_count": 119,
     "metadata": {},
     "output_type": "execute_result"
    }
   ],
   "source": [
    "N = net.Network(notebook=True, directed=True, height=300)\n",
    "labels = {}\n",
    "for i, j, v in D:\n",
    "    if j not in labels:\n",
    "        labels[j] = [f\"({i},{j},{v[0]},{v[1]})\"]\n",
    "    else:\n",
    "        labels[j].append(f\"({i},{j},{v[0]},{v[1]})\")\n",
    "for i, j, v in A:\n",
    "    if i in labels:\n",
    "        N.add_node(i, label='\\n'.join(labels[i]), shape='circle')\n",
    "    else:\n",
    "        N.add_node(i, label=str(i), shape='circle')\n",
    "    if j in labels:\n",
    "        N.add_node(j, label='\\n'.join(labels[j]), shape='circle')\n",
    "    else:\n",
    "        N.add_node(j, label=str(j), shape='circle')\n",
    "    N.add_edge(i, j, label=str(v))     \n",
    "N.show('graph.html')"
   ]
  },
  {
   "cell_type": "code",
   "execution_count": 120,
   "id": "cef7c03a-990a-4e38-b79d-64f302906e4a",
   "metadata": {},
   "outputs": [],
   "source": [
    "def algebraic_IPC_with_paths(Adj, x):\n",
    "    n = Adj.shape[0]\n",
    "    A = Matrix.sparse(GS, n, n)\n",
    "    A1 = Matrix.sparse(FP64, n, n)\n",
    "    w_s_r = 0\n",
    "    w_v = np.zeros(n)\n",
    "    # compute relative contribution coefficients (weights)\n",
    "    for s in range(n):\n",
    "        for r in range(n):\n",
    "            if x[r] - x[s] > 0:\n",
    "                w_s_r += x[r] - x[s]\n",
    "                w_v[s] += x[r] - x[s]\n",
    "                w_v[r] += x[r] - x[s]\n",
    "    for k, v in Adj.items():\n",
    "        i = k[0]\n",
    "        j = k[1]\n",
    "        if i == j:\n",
    "            A[i, j] = (float('inf'), 0)\n",
    "        else:\n",
    "            A[i, j] = (v, 1)\n",
    "            A1[i, j] = v\n",
    "    D = shortest_path_FW(A)\n",
    "    D1 = Matrix.sparse(FP64, n, n)\n",
    "    for i, j, v in D:\n",
    "        D1[i, j] = v[0]\n",
    "    pred = dict()\n",
    "    with FP64.plus:\n",
    "        for i in range(n):\n",
    "            pred[i] = dict()\n",
    "            d = D1.extract_row(i)\n",
    "            d[i] = 0\n",
    "            for j in d.indices:\n",
    "                col_j = A1.extract_col(j)\n",
    "                col_j.emult(d, mult_op=FP64.plus, out=col_j)\n",
    "                #pred_j = list((col_j == d[j]).indices)\n",
    "                #if pred_j:\n",
    "                pred[i][j] = list((col_j == d[j]).indices)\n",
    "    #IPC = Vector.sparse(FP64, n)\n",
    "    IPC = np.zeros(n)\n",
    "    paths = dict()\n",
    "    v_paths = dict()\n",
    "    for v in range(n):\n",
    "        v_paths[v] = []\n",
    "        for s in D.extract_col(v).indices:\n",
    "            for r in D.extract_row(v).indices:\n",
    "                if x[r] - x[s] <= 0 or D[s, r][1] == 0:\n",
    "                    continue\n",
    "                if s != v and r != v and s != r and D[s, r][0] == D[s, v][0] + D[v, r][0]:\n",
    "                    w_v_sr = (x[r] - x[s]) / (w_s_r - w_v[v]) \n",
    "                    '''\n",
    "                    if (s, t) not in paths:\n",
    "                        paths[(s,t)] = st_paths(pred[s], s, t)\n",
    "                    for p in paths[(s, t)]:\n",
    "                        if v in p:\n",
    "                            v_paths[v].append(p)\n",
    "                            V.update(p)\n",
    "                    '''\n",
    "                    if (s, r) not in paths:\n",
    "                        paths[(s, r)] = st_paths(pred[s], s, r)\n",
    "                    for p in paths[(s, r)]:\n",
    "                        if v in p:\n",
    "                            v_paths[v].append(p)\n",
    "                    IPC[v] += D[s, v][1] * D[v, r][1] / D[s, r][1] * w_v_sr\n",
    "    return IPC, v_paths, paths, pred\n",
    "\n",
    "\n",
    "def st_paths(pred, s, t):\n",
    "    stack = [[t, 0]]\n",
    "    top = 0\n",
    "    paths = []\n",
    "    while top >= 0:\n",
    "        node, i = stack[top]\n",
    "        if node == s:\n",
    "            paths.append([p for p, n in reversed(stack[:top+1])])\n",
    "        if node not in pred:\n",
    "            continue\n",
    "        if len(pred[node]) > i:\n",
    "            top += 1\n",
    "            if top == len(stack):\n",
    "                stack.append([pred[node][i],0])\n",
    "            else:\n",
    "                stack[top] = [pred[node][i],0]\n",
    "        else:\n",
    "            stack[top-1][1] += 1\n",
    "            top -= 1\n",
    "    return paths"
   ]
  },
  {
   "cell_type": "code",
   "execution_count": 121,
   "id": "90e08d8b-ccc0-4389-9fd3-64cf7018bee2",
   "metadata": {},
   "outputs": [],
   "source": [
    "def IPC_with_paths_nx(G, x):\n",
    "    '''\n",
    "    Inverse percolation centrality algorithm using Networkx\n",
    "    '''\n",
    "    #IPC = dict.fromkeys(G, 0.0)\n",
    "    n = G.number_of_nodes()\n",
    "    print('NetworkX graph weights')\n",
    "    for u, v, weight in G.edges(data=\"weight\"):\n",
    "        print(u, v, weight)\n",
    "    IPC = np.zeros(n)\n",
    "    w_s_r = 0\n",
    "    w_v = np.zeros(n)\n",
    "    # compute relative contribution coefficients (weights)\n",
    "    for s in range(n):\n",
    "        for r in range(n):\n",
    "            if x[r] - x[s] > 0:\n",
    "                w_s_r += x[r] - x[s]\n",
    "                w_v[s] += x[r] - x[s]\n",
    "                w_v[r] += x[r] - x[s]\n",
    "    D = dict(nx.all_pairs_dijkstra(G, weight='weight'))\n",
    "    v_paths = dict()\n",
    "    paths = dict()\n",
    "    for v in range(n):\n",
    "        if v not in D:\n",
    "            continue\n",
    "        for s in D:\n",
    "            if v not in D[s][0]:\n",
    "                continue\n",
    "            for r in D[s][0]:\n",
    "                if r not in D[v][0]:\n",
    "                    continue\n",
    "                if x[r] - x[s] <= 0:\n",
    "                    continue\n",
    "                if s != v and r != v and s != r and D[s][0][r] == D[s][0][v] + D[v][0][r]:\n",
    "                    if (s, r) not in paths:\n",
    "                        paths[(s, r)] = list(nx.all_shortest_paths(G, source=s, target=r, weight='weight'))\n",
    "                    sigma_sr = len(paths[(s, r)])\n",
    "                    if sigma_sr == 0:\n",
    "                        continue\n",
    "                    sv_paths = list(nx.all_shortest_paths(G, source=s, target=v, weight='weight'))\n",
    "                    vr_paths = list(nx.all_shortest_paths(G, source=v, target=r, weight='weight'))\n",
    "                    sigma_v_sr = float(len(sv_paths) * len(vr_paths))\n",
    "                    w_v_sr = (x[r] - x[s]) / (w_s_r - w_v[v]) \n",
    "                    if v not in v_paths:\n",
    "                        v_paths[v] = []\n",
    "                    IPC[v] += sigma_v_sr / sigma_sr * w_v_sr\n",
    "                    for p in paths[(s, r)]:\n",
    "                        if v in p:\n",
    "                            v_paths[v].append(p)\n",
    "    return IPC, v_paths, paths"
   ]
  },
  {
   "cell_type": "code",
   "execution_count": 122,
   "id": "5b684227-9527-49be-8f09-18e8d11e3e5d",
   "metadata": {},
   "outputs": [],
   "source": [
    "def IPC_dense(G, x):\n",
    "    '''\n",
    "    Inverse centrality algorithm\n",
    "    '''\n",
    "    # adjacency matrix\n",
    "    A = nx.adjacency_matrix(G)\n",
    "    A = A.todok(copy=True)\n",
    "    n = A.shape[0]\n",
    "    # centrality\n",
    "    C = np.zeros(n)\n",
    "    # shortest path distance matrix\n",
    "    D_d = np.zeros((n, n), dtype=float)\n",
    "    D_d[:, :] = float('inf')\n",
    "    # shortest path count matrix\n",
    "    D_s = np.zeros((n, n), dtype=float)\n",
    "    # initiate D_d and D_s\n",
    "    for i in range(n):\n",
    "        D_d[i, i] = 0\n",
    "        D_s[i, i] = 1\n",
    "    for k, v in A.items():\n",
    "        i = k[0]\n",
    "        j = k[1]\n",
    "        if i != j and v != 0: \n",
    "            D_d[i, j] = v\n",
    "            D_s[i, j] = 1\n",
    "    w_s_r = 0\n",
    "    w_v = np.zeros(n)\n",
    "    # compute relative contribution coefficients (weights)\n",
    "    for s in range(n):\n",
    "        for r in range(n):\n",
    "            if x[r] - x[s] > 0:\n",
    "                w_s_r += x[r] - x[s]\n",
    "                w_v[s] += x[r] - x[s]\n",
    "                w_v[r] += x[r] - x[s]\n",
    "    # iterate for each vertex\n",
    "    for k in range(n):\n",
    "        # iterate for each vertex\n",
    "        for i in range(n):\n",
    "            # iterate for each vertex\n",
    "            for j in range(n):\n",
    "                # shortest paths through k exists\n",
    "                if D_d[i, k] + D_d[k, j] < D_d[i, j]:\n",
    "                    D_d[i, j] = D_d[i, k] + D_d[k, j]\n",
    "                    D_s[i, j] = D_s[i, k] * D_s[k, j]\n",
    "                # other shortest paths through k exist\n",
    "                elif D_d[i, k] + D_d[k, j] == D_d[i, j] and i != j:\n",
    "                    D_s[i, j] += D_s[i, k] * D_s[k, j]\n",
    "    # iterate for each vertex\n",
    "    for v in range(n):\n",
    "        # iterate for each vertex\n",
    "        for s in range(n):\n",
    "            # iterate for each vertex\n",
    "            for r in range(n):\n",
    "                if s != v and r != v and D_d[s, r] == D_d[s, v] + D_d[v, r] and x[r] - x[s] > 0:\n",
    "                    # the weight\n",
    "                    w_v_sr = (x[r] - x[s]) / (w_s_r - w_v[v])\n",
    "                    # accummulate centrality value\n",
    "                    C[v] += (D_s[s, v] * D_s[v, r]) / D_s[s, r] * w_v_sr\n",
    "    return C\n",
    "\n",
    "\n",
    "def IPC_sparse(G, x):\n",
    "    '''\n",
    "    Inverse centrality algorithm\n",
    "    '''\n",
    "    # adjacency matrix\n",
    "    A = nx.adjacency_matrix(G)\n",
    "    A = A.todok(copy=True)\n",
    "    n = A.shape[0]\n",
    "    # centrality\n",
    "    C = np.zeros(n)\n",
    "    # shortest path distance matrix\n",
    "    D_d = copy.deepcopy(A)\n",
    "    # shortest path count matrix\n",
    "    D_s = sp.sparse.dok_matrix((n, n), dtype=float)\n",
    "    for i in range(n):\n",
    "        D_s[i, i] = 1\n",
    "        D_d[i, i] = 0\n",
    "    for k, v in A.items():\n",
    "        i = k[0]\n",
    "        j = k[1]\n",
    "        if i != j and v != 0: \n",
    "            D_s[i, j] = 1\n",
    "    w_s_r = 0\n",
    "    w_v = np.zeros(n)\n",
    "    # compute relative contribution coefficients (weights)\n",
    "    for s in range(n):\n",
    "        for r in range(n):\n",
    "            if x[r] - x[s] > 0:\n",
    "                w_s_r += x[r] - x[s]\n",
    "                w_v[s] += x[r] - x[s]\n",
    "                w_v[r] += x[r] - x[s]\n",
    "    # iterate for each vertex\n",
    "    for k in range(n):\n",
    "        # if k-th col is empty, continue\n",
    "        if D_d.getcol(k).count_nonzero() == 0:\n",
    "            continue\n",
    "        # iterate over nonzero column indices\n",
    "        for i in D_d.getcol(k).nonzero()[0]:\n",
    "            if D_d.getrow(k).count_nonzero() == 0:\n",
    "                continue\n",
    "            # iterate over nonzero row indices\n",
    "            for j in D_d.getrow(k).nonzero()[1]:\n",
    "                # check the entry for i, j\n",
    "                if not D_d.get((i, j), False):\n",
    "                    d_ij = float('inf')\n",
    "                else:\n",
    "                    d_ij = D_d[i, j]\n",
    "                # shortest paths through k exists\n",
    "                if D_d[i, k] + D_d[k, j] < d_ij:\n",
    "                    D_d[i, j] = D_d[i, k] + D_d[k, j]\n",
    "                    D_s[i, j] = D_s[i, k] * D_s[k, j]\n",
    "                # other shortest paths through k exist\n",
    "                elif D_d[i, k] + D_d[k, j] == d_ij and i != j:\n",
    "                    D_s[i, j] += D_s[i, k] * D_s[k, j]\n",
    "    for v in range(n):\n",
    "        # if v-th col is empty, continue\n",
    "        if D_d.getcol(v).count_nonzero() == 0:\n",
    "            continue\n",
    "        # iterate over nonzero column indices\n",
    "        for s in D_d.getcol(v).nonzero()[0]:\n",
    "            # if v-th row is empty, continue\n",
    "            if D_d.getrow(v).count_nonzero() == 0:\n",
    "                continue\n",
    "            # iterate over nonzero row indices\n",
    "            for r in D_d.getrow(v).nonzero()[1]:\n",
    "                if s == r or s == v or r == v or x[r] - x[s] <= 0:\n",
    "                    continue\n",
    "                if not D_d.get((s, v), False) or not D_d.get((v, r), False):\n",
    "                    continue\n",
    "                if D_d[s, r] == D_d[s, v] + D_d[v, r]:\n",
    "                    # the weight\n",
    "                    w_v_sr = (x[r] - x[s]) / (w_s_r - w_v[v])\n",
    "                    # accummulate centrality value\n",
    "                    C[v] += (D_s[s, v] * D_s[v, r]) / D_s[s, r] * w_v_sr\n",
    "    return C"
   ]
  },
  {
   "cell_type": "code",
   "execution_count": 112,
   "id": "6deba255",
   "metadata": {},
   "outputs": [
    {
     "name": "stdout",
     "output_type": "stream",
     "text": [
      "Algebraic IPC [0.    0.    0.    0.125 0.75  0.5  ]\n",
      "NetworkX graph weights\n",
      "0 1 9.0\n",
      "0 3 3.0\n",
      "0 5 4.0\n",
      "1 2 8.0\n",
      "1 5 7.0\n",
      "3 4 6.0\n",
      "3 5 1.0\n",
      "4 2 4.0\n",
      "5 4 2.0\n",
      "C_nx [0.    0.    0.    0.125 0.75  0.5  ]\n",
      "C_sparse [0.    0.    0.    0.125 0.75  0.5  ]\n"
     ]
    },
    {
     "name": "stderr",
     "output_type": "stream",
     "text": [
      "/var/folders/vz/4_nwbcw97xjdd1y7_nfhyb_80000gp/T/ipykernel_56878/1561029555.py:6: FutureWarning: adjacency_matrix will return a scipy.sparse array instead of a matrix in Networkx 3.0.\n",
      "  A = nx.adjacency_matrix(G)\n",
      "/var/folders/vz/4_nwbcw97xjdd1y7_nfhyb_80000gp/T/ipykernel_56878/1561029555.py:67: FutureWarning: adjacency_matrix will return a scipy.sparse array instead of a matrix in Networkx 3.0.\n",
      "  A = nx.adjacency_matrix(G)\n"
     ]
    }
   ],
   "source": [
    "from scipy.sparse import dok_matrix\n",
    "\n",
    "Adj = dok_matrix((6, 6), dtype=float) \n",
    "Adj[0, 1] = 9.0\n",
    "Adj[0, 3] = 3.0\n",
    "Adj[0, 5] = 4.0\n",
    "Adj[1, 2] = 8.0\n",
    "Adj[3, 4] = 6.0\n",
    "Adj[3, 5] = 1.0\n",
    "Adj[4, 2] = 4.0\n",
    "Adj[1, 5] = 7.0\n",
    "Adj[5, 4] = 2.0\n",
    "\n",
    "states = np.array([0, 0, 0.4, 0, 0, 0])\n",
    "\n",
    "IPC, v_paths, paths, pred = algebraic_IPC_with_paths(Adj, states)\n",
    "print('Algebraic IPC', IPC)\n",
    "#print(v_paths)\n",
    "G = nx.from_numpy_array(Adj, create_using=nx.DiGraph)\n",
    "C_nx, v_paths_nx, paths_nx = IPC_with_paths_nx(G, x=states)\n",
    "print('C_nx', C_nx)\n",
    "#print(v_paths_nx)\n",
    "C_dense = IPC_dense(G, states)\n",
    "C_sparse = IPC_sparse(G, states)\n",
    "#print(C_dense)\n",
    "print('C_sparse', C_sparse)"
   ]
  },
  {
   "cell_type": "code",
   "execution_count": 110,
   "id": "046bf061",
   "metadata": {},
   "outputs": [
    {
     "name": "stdout",
     "output_type": "stream",
     "text": [
      "{0: {0: [], 1: [0], 2: [4], 3: [0], 4: [5], 5: [0, 3]}, 1: {1: [], 2: [1], 4: [5], 5: [1]}, 2: {2: []}, 3: {2: [4], 3: [], 4: [5], 5: [3]}, 4: {2: [4], 4: []}, 5: {2: [4], 4: [5], 5: []}}\n"
     ]
    }
   ],
   "source": [
    "print(pred)"
   ]
  },
  {
   "cell_type": "code",
   "execution_count": 123,
   "id": "e066ff62",
   "metadata": {},
   "outputs": [
    {
     "name": "stdout",
     "output_type": "stream",
     "text": [
      "Warning: When  cdn_resources is 'local' jupyter notebook has issues displaying graphics on chrome/safari. Use cdn_resources='in_line' or cdn_resources='remote' if you have issues viewing graphics in a notebook.\n",
      "sssp.html\n"
     ]
    },
    {
     "data": {
      "text/html": [
       "\n",
       "        <iframe\n",
       "            width=\"100%\"\n",
       "            height=\"300\"\n",
       "            src=\"sssp.html\"\n",
       "            frameborder=\"0\"\n",
       "            allowfullscreen\n",
       "            \n",
       "        ></iframe>\n",
       "        "
      ],
      "text/plain": [
       "<IPython.lib.display.IFrame at 0x7fec60201c40>"
      ]
     },
     "execution_count": 123,
     "metadata": {},
     "output_type": "execute_result"
    }
   ],
   "source": [
    "v = 0\n",
    "if v in pred:\n",
    "    N = net.Network(notebook=True, directed=True, height=300)\n",
    "    for k, val in Adj.items():\n",
    "        i = k[0]\n",
    "        j = k[1]\n",
    "        N.add_node(i, label=str(i), shape='circle')\n",
    "        N.add_node(j, label=str(j), shape='circle')\n",
    "        if j not in pred[v]:\n",
    "            continue\n",
    "        if i in pred[v][j]:\n",
    "            N.add_edge(i, j, label=str(val))     \n",
    "N.show('sssp.html')\n"
   ]
  },
  {
   "cell_type": "code",
   "execution_count": 124,
   "id": "dd26134b",
   "metadata": {},
   "outputs": [
    {
     "name": "stdout",
     "output_type": "stream",
     "text": [
      "Warning: When  cdn_resources is 'local' jupyter notebook has issues displaying graphics on chrome/safari. Use cdn_resources='in_line' or cdn_resources='remote' if you have issues viewing graphics in a notebook.\n",
      "sssp.html\n"
     ]
    },
    {
     "data": {
      "text/html": [
       "\n",
       "        <iframe\n",
       "            width=\"100%\"\n",
       "            height=\"300\"\n",
       "            src=\"sssp.html\"\n",
       "            frameborder=\"0\"\n",
       "            allowfullscreen\n",
       "            \n",
       "        ></iframe>\n",
       "        "
      ],
      "text/plain": [
       "<IPython.lib.display.IFrame at 0x7fec704f70a0>"
      ]
     },
     "execution_count": 124,
     "metadata": {},
     "output_type": "execute_result"
    }
   ],
   "source": [
    "v = 1\n",
    "if v in pred:\n",
    "    N = net.Network(notebook=True, directed=True, height=300)\n",
    "    for k, val in Adj.items():\n",
    "        i = k[0]\n",
    "        j = k[1]\n",
    "        N.add_node(i, label=str(i), shape='circle')\n",
    "        N.add_node(j, label=str(j), shape='circle')\n",
    "        if j not in pred[v]:\n",
    "            continue\n",
    "        if i in pred[v][j]:\n",
    "            N.add_edge(i, j, label=str(val))     \n",
    "N.show('sssp.html')"
   ]
  },
  {
   "cell_type": "code",
   "execution_count": 125,
   "id": "1cbf4b9e",
   "metadata": {},
   "outputs": [
    {
     "name": "stdout",
     "output_type": "stream",
     "text": [
      "Warning: When  cdn_resources is 'local' jupyter notebook has issues displaying graphics on chrome/safari. Use cdn_resources='in_line' or cdn_resources='remote' if you have issues viewing graphics in a notebook.\n",
      "sssp.html\n"
     ]
    },
    {
     "data": {
      "text/html": [
       "\n",
       "        <iframe\n",
       "            width=\"100%\"\n",
       "            height=\"300\"\n",
       "            src=\"sssp.html\"\n",
       "            frameborder=\"0\"\n",
       "            allowfullscreen\n",
       "            \n",
       "        ></iframe>\n",
       "        "
      ],
      "text/plain": [
       "<IPython.lib.display.IFrame at 0x7feca16fbaf0>"
      ]
     },
     "execution_count": 125,
     "metadata": {},
     "output_type": "execute_result"
    }
   ],
   "source": [
    "v = 2\n",
    "if v in pred:\n",
    "    N = net.Network(notebook=True, directed=True, height=300)\n",
    "    for k, val in Adj.items():\n",
    "        i = k[0]\n",
    "        j = k[1]\n",
    "        N.add_node(i, label=str(i), shape='circle')\n",
    "        N.add_node(j, label=str(j), shape='circle')\n",
    "        if j not in pred[v]:\n",
    "            continue\n",
    "        if i in pred[v][j]:\n",
    "            N.add_edge(i, j, label=str(val))     \n",
    "N.show('sssp.html')"
   ]
  },
  {
   "cell_type": "code",
   "execution_count": 126,
   "id": "f34eb31f",
   "metadata": {},
   "outputs": [
    {
     "name": "stdout",
     "output_type": "stream",
     "text": [
      "Warning: When  cdn_resources is 'local' jupyter notebook has issues displaying graphics on chrome/safari. Use cdn_resources='in_line' or cdn_resources='remote' if you have issues viewing graphics in a notebook.\n",
      "sssp.html\n"
     ]
    },
    {
     "data": {
      "text/html": [
       "\n",
       "        <iframe\n",
       "            width=\"100%\"\n",
       "            height=\"300\"\n",
       "            src=\"sssp.html\"\n",
       "            frameborder=\"0\"\n",
       "            allowfullscreen\n",
       "            \n",
       "        ></iframe>\n",
       "        "
      ],
      "text/plain": [
       "<IPython.lib.display.IFrame at 0x7fec90a647f0>"
      ]
     },
     "execution_count": 126,
     "metadata": {},
     "output_type": "execute_result"
    }
   ],
   "source": [
    "v = 3\n",
    "if v in pred:\n",
    "    N = net.Network(notebook=True, directed=True, height=300)\n",
    "    for k, val in Adj.items():\n",
    "        i = k[0]\n",
    "        j = k[1]\n",
    "        N.add_node(i, label=str(i), shape='circle')\n",
    "        N.add_node(j, label=str(j), shape='circle')\n",
    "        if j not in pred[v]:\n",
    "            continue\n",
    "        if i in pred[v][j]:\n",
    "            N.add_edge(i, j, label=str(val))     \n",
    "N.show('sssp.html')"
   ]
  },
  {
   "cell_type": "code",
   "execution_count": 54,
   "id": "ea3f1017",
   "metadata": {},
   "outputs": [
    {
     "name": "stdout",
     "output_type": "stream",
     "text": [
      "Warning: When  cdn_resources is 'local' jupyter notebook has issues displaying graphics on chrome/safari. Use cdn_resources='in_line' or cdn_resources='remote' if you have issues viewing graphics in a notebook.\n",
      "sssp.html\n"
     ]
    },
    {
     "data": {
      "text/html": [
       "\n",
       "        <iframe\n",
       "            width=\"100%\"\n",
       "            height=\"300\"\n",
       "            src=\"sssp.html\"\n",
       "            frameborder=\"0\"\n",
       "            allowfullscreen\n",
       "            \n",
       "        ></iframe>\n",
       "        "
      ],
      "text/plain": [
       "<IPython.lib.display.IFrame at 0x7fbc9b91b550>"
      ]
     },
     "execution_count": 54,
     "metadata": {},
     "output_type": "execute_result"
    }
   ],
   "source": [
    "v = 4\n",
    "if v in pred:\n",
    "    N = net.Network(notebook=True, directed=True, height=300)\n",
    "    for k, val in Adj.items():\n",
    "        i = k[0]\n",
    "        j = k[1]\n",
    "        N.add_node(i, label=str(i), shape='circle')\n",
    "        N.add_node(j, label=str(j), shape='circle')\n",
    "        if j not in pred[v]:\n",
    "            continue\n",
    "        if i in pred[v][j]:\n",
    "            N.add_edge(i, j, label=str(val))     \n",
    "N.show('sssp.html')"
   ]
  },
  {
   "cell_type": "code",
   "execution_count": 55,
   "id": "ce8eaf91",
   "metadata": {},
   "outputs": [
    {
     "name": "stdout",
     "output_type": "stream",
     "text": [
      "Warning: When  cdn_resources is 'local' jupyter notebook has issues displaying graphics on chrome/safari. Use cdn_resources='in_line' or cdn_resources='remote' if you have issues viewing graphics in a notebook.\n",
      "sssp.html\n"
     ]
    },
    {
     "data": {
      "text/html": [
       "\n",
       "        <iframe\n",
       "            width=\"100%\"\n",
       "            height=\"300\"\n",
       "            src=\"sssp.html\"\n",
       "            frameborder=\"0\"\n",
       "            allowfullscreen\n",
       "            \n",
       "        ></iframe>\n",
       "        "
      ],
      "text/plain": [
       "<IPython.lib.display.IFrame at 0x7fbc9aefe100>"
      ]
     },
     "execution_count": 55,
     "metadata": {},
     "output_type": "execute_result"
    }
   ],
   "source": [
    "v = 5\n",
    "if v in pred:\n",
    "    N = net.Network(notebook=True, directed=True, height=300)\n",
    "    for k, val in Adj.items():\n",
    "        i = k[0]\n",
    "        j = k[1]\n",
    "        N.add_node(i, label=str(i), shape='circle')\n",
    "        N.add_node(j, label=str(j), shape='circle')\n",
    "        if j not in pred[v]:\n",
    "            continue\n",
    "        if i in pred[v][j]:\n",
    "            N.add_edge(i, j, label=str(val))     \n",
    "N.show('sssp.html')"
   ]
  },
  {
   "cell_type": "code",
   "execution_count": null,
   "id": "5ca113af",
   "metadata": {},
   "outputs": [],
   "source": []
  },
  {
   "cell_type": "code",
   "execution_count": null,
   "id": "69b69f22",
   "metadata": {},
   "outputs": [],
   "source": []
  }
 ],
 "metadata": {
  "kernelspec": {
   "display_name": "Python 3 (ipykernel)",
   "language": "python",
   "name": "python3"
  },
  "language_info": {
   "codemirror_mode": {
    "name": "ipython",
    "version": 3
   },
   "file_extension": ".py",
   "mimetype": "text/x-python",
   "name": "python",
   "nbconvert_exporter": "python",
   "pygments_lexer": "ipython3",
   "version": "3.9.18"
  }
 },
 "nbformat": 4,
 "nbformat_minor": 5
}
