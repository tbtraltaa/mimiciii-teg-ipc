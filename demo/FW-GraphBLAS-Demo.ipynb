{
 "cells": [
  {
   "cell_type": "code",
   "execution_count": 1,
   "id": "3fc7c45d",
   "metadata": {},
   "outputs": [
    {
     "name": "stdout",
     "output_type": "stream",
     "text": [
      "The Zen of Python, by Tim Peters\n",
      "\n",
      "Beautiful is better than ugly.\n",
      "Explicit is better than implicit.\n",
      "Simple is better than complex.\n",
      "Complex is better than complicated.\n",
      "Flat is better than nested.\n",
      "Sparse is better than dense.\n",
      "Readability counts.\n",
      "Special cases aren't special enough to break the rules.\n",
      "Although practicality beats purity.\n",
      "Errors should never pass silently.\n",
      "Unless explicitly silenced.\n",
      "In the face of ambiguity, refuse the temptation to guess.\n",
      "There should be one-- and preferably only one --obvious way to do it.\n",
      "Although that way may not be obvious at first unless you're Dutch.\n",
      "Now is better than never.\n",
      "Although never is often better than *right* now.\n",
      "If the implementation is hard to explain, it's a bad idea.\n",
      "If the implementation is easy to explain, it may be a good idea.\n",
      "Namespaces are one honking great idea -- let's do more of those!\n"
     ]
    }
   ],
   "source": [
    "from pygraphblas import *\n",
    "from pygraphblas import lib\n",
    "from pygraphblas.types import Type, binop\n",
    "from pygraphblas.gviz import draw, draw_vis, draw_vector, draw_matrix\n",
    "import numpy as np\n",
    "import pprint\n",
    "from pyvis import network as net\n",
    "\n",
    "import this\n",
    "options_set(nthreads=8)"
   ]
  },
  {
   "cell_type": "code",
   "execution_count": 2,
   "id": "5f8aec90",
   "metadata": {},
   "outputs": [
    {
     "name": "stdout",
     "output_type": "stream",
     "text": [
      "Local cdn resources have problems on chrome/safari when used in jupyter-notebook. \n"
     ]
    },
    {
     "data": {
      "text/html": [
       "\n",
       "        <iframe\n",
       "            width=\"100%\"\n",
       "            height=\"600px\"\n",
       "            src=\"graph.html\"\n",
       "            frameborder=\"0\"\n",
       "            allowfullscreen\n",
       "            \n",
       "        ></iframe>\n",
       "        "
      ],
      "text/plain": [
       "<IPython.lib.display.IFrame at 0x7f9d91853c40>"
      ]
     },
     "execution_count": 2,
     "metadata": {},
     "output_type": "execute_result"
    }
   ],
   "source": [
    "\n",
    "\n",
    "class GS(Type):\n",
    "    \n",
    "    _base_name = \"UDT\"\n",
    "    _numpy_t = None\n",
    "    members = ['double w', 'uint64_t n']\n",
    "    one = (float('inf'), 0)\n",
    "    \n",
    "    @binop(boolean=True) \n",
    "    def EQ(z, x, y):\n",
    "        if x.w == y.w and x.n == y.n:\n",
    "            z = True\n",
    "        else:\n",
    "            z = False\n",
    "\n",
    "    @binop()\n",
    "    def PLUS(z, x, y):\n",
    "        if x.w < y.w:\n",
    "            z.w = x.w\n",
    "            z.n = x.n\n",
    "        elif x.w == y.w:\n",
    "            z.w = x.w\n",
    "            z.n = x.n + y.n\n",
    "        else:\n",
    "            z.w = y.w\n",
    "            z.n = y.n\n",
    "\n",
    "    @binop()\n",
    "    def TIMES(z, x, y):\n",
    "        z.w = x.w + y.w\n",
    "        z.n = x.n * y.n\n",
    "\n",
    "GS_monoid = GS.new_monoid(GS.PLUS, GS.one)\n",
    "GS_semiring = GS.new_semiring(GS_monoid, GS.TIMES)\n",
    "\n",
    "def shortest_path(matrix, start):\n",
    "    n = matrix.nrows\n",
    "    v = Vector.sparse(matrix.type, n)\n",
    "    for i, j, k in matrix:\n",
    "        if i == j:\n",
    "            matrix[i,j] = (float('inf'), 0)\n",
    "        else:\n",
    "            matrix[i,j] = (k[0], 1)        \n",
    "    v = matrix.extract_row(start)\n",
    "    v_k = matrix.extract_row(start)\n",
    "    with GS_semiring:\n",
    "        for _ in range(matrix.nrows+1):\n",
    "            v_k = v_k @ matrix\n",
    "            v = v + v_k\n",
    "    return v\n",
    "\n",
    "A = Matrix.sparse(GS, 6, 6)\n",
    "A[0,1] = (9.0, 1)\n",
    "A[0,3] = (3.0, 1)\n",
    "A[0,5] = (4.0, 1)\n",
    "A[1,2] = (8.0, 1)\n",
    "A[3,4] = (6.0, 1)\n",
    "A[3,5] = (1.0, 1)\n",
    "A[4,2] = (4.0, 1)\n",
    "A[1,5] = (7.0, 1)\n",
    "A[5,4] = (2.0, 1)\n",
    "\n",
    "N = net.Network(notebook=True, directed=True)\n",
    "for i, j, v in A:\n",
    "    N.add_node(i, label=str(i), shape='circle')\n",
    "    N.add_node(j, label=str(j), shape='circle')\n",
    "    N.add_edge(i, j, label=str(v[0]))\n",
    "N.show('graph.html')"
   ]
  },
  {
   "cell_type": "code",
   "execution_count": 3,
   "id": "61cfd07a",
   "metadata": {},
   "outputs": [],
   "source": [
    "g = draw(A, label_vector=shortest_path(A, 0))"
   ]
  },
  {
   "cell_type": "code",
   "execution_count": 4,
   "id": "621fa347",
   "metadata": {},
   "outputs": [],
   "source": [
    "def shortest_path_FW(matrix):\n",
    "    n = matrix.nrows\n",
    "    v = Vector.sparse(matrix.type, n)\n",
    "    for i, j, k in matrix:\n",
    "        if i == j:\n",
    "            matrix[i,j] = (float('inf'), 0)\n",
    "        else:\n",
    "            matrix[i,j] = (k[0], 1)        \n",
    "    D_k = matrix.dup()\n",
    "    D = matrix.dup()\n",
    "    with GS_semiring:\n",
    "        for _ in range(matrix.nrows):\n",
    "            D_k @= matrix\n",
    "            D += D_k\n",
    "    return D"
   ]
  },
  {
   "cell_type": "code",
   "execution_count": 5,
   "id": "7984a5dd",
   "metadata": {},
   "outputs": [],
   "source": [
    "D = shortest_path_FW(A)"
   ]
  },
  {
   "cell_type": "code",
   "execution_count": 6,
   "id": "49c535b5",
   "metadata": {},
   "outputs": [
    {
     "name": "stdout",
     "output_type": "stream",
     "text": [
      "0 1 (9.0, 1)\n",
      "0 2 (10.0, 2)\n",
      "0 3 (3.0, 1)\n",
      "0 4 (6.0, 2)\n",
      "0 5 (4.0, 2)\n",
      "1 2 (8.0, 1)\n",
      "1 4 (9.0, 1)\n",
      "1 5 (7.0, 1)\n",
      "3 2 (7.0, 1)\n",
      "3 4 (3.0, 1)\n",
      "3 5 (1.0, 1)\n",
      "4 2 (4.0, 1)\n",
      "5 2 (6.0, 1)\n",
      "5 4 (2.0, 1)\n"
     ]
    }
   ],
   "source": [
    "for i, j, k in D:\n",
    "    print(i, j, D[i, j])"
   ]
  },
  {
   "cell_type": "code",
   "execution_count": 7,
   "id": "809fb086",
   "metadata": {
    "scrolled": false
   },
   "outputs": [
    {
     "name": "stdout",
     "output_type": "stream",
     "text": [
      "Local cdn resources have problems on chrome/safari when used in jupyter-notebook. \n"
     ]
    },
    {
     "data": {
      "text/html": [
       "\n",
       "        <iframe\n",
       "            width=\"100%\"\n",
       "            height=\"300\"\n",
       "            src=\"graph.html\"\n",
       "            frameborder=\"0\"\n",
       "            allowfullscreen\n",
       "            \n",
       "        ></iframe>\n",
       "        "
      ],
      "text/plain": [
       "<IPython.lib.display.IFrame at 0x7f9d91552880>"
      ]
     },
     "execution_count": 7,
     "metadata": {},
     "output_type": "execute_result"
    }
   ],
   "source": [
    "N = net.Network(notebook=True, directed=True, height=300)\n",
    "labels = {}\n",
    "for i, j, v in D:\n",
    "    if j not in labels:\n",
    "        labels[j] = [f\"({i},{j},{v[0]},{v[1]})\"]\n",
    "    else:\n",
    "        labels[j].append(f\"({i},{j},{v[0]},{v[1]})\")\n",
    "for i, j, v in A:\n",
    "    if i in labels:\n",
    "        N.add_node(i, label='\\n'.join(labels[i]), shape='circle')\n",
    "    else:\n",
    "        N.add_node(i, label=str(i), shape='circle')\n",
    "    if j in labels:\n",
    "        N.add_node(j, label='\\n'.join(labels[j]), shape='circle')\n",
    "    else:\n",
    "        N.add_node(j, label=str(j), shape='circle')\n",
    "    N.add_edge(i, j, label=str(v))     \n",
    "N.show('graph.html')"
   ]
  },
  {
   "cell_type": "code",
   "execution_count": 8,
   "id": "ffe6b512",
   "metadata": {},
   "outputs": [],
   "source": [
    "def algebraic_PC(Adj, states):\n",
    "    n = Adj.shape[0]\n",
    "    A = Matrix.sparse(GS, n, n)\n",
    "    S = 0.0\n",
    "    S_vt = dict()\n",
    "    S_sv = dict()\n",
    "    for v in range(n):\n",
    "        deltas = states - states[v]\n",
    "        S_vt[v] = np.sum(deltas[deltas > 0])\n",
    "        deltas = states * (-1) + states[v]\n",
    "        S_sv[v] = np.sum(deltas[deltas > 0])\n",
    "        S += S_vt[v]\n",
    "    for k, v in Adj.items():\n",
    "        i = k[0]\n",
    "        j = k[1]\n",
    "        if i == j:\n",
    "            A[i,j] = (float('inf'), 0)\n",
    "        else:\n",
    "            A[i,j] = (v, 1)\n",
    "    D = shortest_path_FW(A)\n",
    "    PC = Vector.sparse(FP32, n)  \n",
    "    for v in range(n):\n",
    "        S_exclude_v = S - S_sv[v] - S_vt[v]\n",
    "        for s in D.extract_col(v).indices:\n",
    "            for t in D.extract_row(v).indices:\n",
    "                if s != v and t!=v and s!=t and D[s, t][0] == D[s, v][0] + D[v, t][0]:\n",
    "                    delta = states[t] - states[s]\n",
    "                    if delta <= 0:\n",
    "                        continue\n",
    "                    w = delta / S_exclude_v \n",
    "                    if v in PC.indices:\n",
    "                        PC[v] += D[s, v][1] * D[v, t][1] / D[s, t][1] * w\n",
    "                    else:\n",
    "                        PC[v] = D[s, v][1] * D[v, t][1] / D[s, t][1] * w\n",
    "    return PC"
   ]
  },
  {
   "cell_type": "code",
   "execution_count": 9,
   "id": "6deba255",
   "metadata": {},
   "outputs": [
    {
     "name": "stdout",
     "output_type": "stream",
     "text": [
      "0|\n",
      "1|\n",
      "2|\n",
      "3|0.125\n",
      "4|0.75\n",
      "5|0.5\n"
     ]
    }
   ],
   "source": [
    "from scipy.sparse import dok_matrix\n",
    "\n",
    "Adj = dok_matrix((6, 6), dtype=float) \n",
    "Adj[0,1] = 9.0\n",
    "Adj[0,3] = 3.0\n",
    "Adj[0,5] = 4.0\n",
    "Adj[1,2] = 8.0\n",
    "Adj[3,4] = 6.0\n",
    "Adj[3,5] = 1.0\n",
    "Adj[4,2] = 4.0\n",
    "Adj[1,5] = 7.0\n",
    "Adj[5,4] = 2.0\n",
    "\n",
    "states = np.array([0, 0, 0.4, 0, 0, 0])\n",
    "PC = algebraic_PC(Adj, states)\n",
    "print(PC)"
   ]
  },
  {
   "cell_type": "code",
   "execution_count": 10,
   "id": "1f4ee5d3",
   "metadata": {},
   "outputs": [],
   "source": [
    "def algebraic_PC_with_paths(Adj, states):\n",
    "    n = Adj.shape[0]\n",
    "    A = Matrix.sparse(GS, n, n)\n",
    "    A1 = Matrix.sparse(FP32, n, n)\n",
    "    S = 0.0\n",
    "    S_vt = dict()\n",
    "    S_sv = dict()\n",
    "    for v in range(n):\n",
    "        deltas = states - states[v]\n",
    "        S_vt[v] = np.sum(deltas[deltas > 0])\n",
    "        deltas = states * (-1) + states[v]\n",
    "        S_sv[v] = np.sum(deltas[deltas > 0])\n",
    "        S += S_vt[v]\n",
    "    for k, v in Adj.items():\n",
    "        i = k[0]\n",
    "        j = k[1]\n",
    "        if i == j:\n",
    "            A[i,j] = (float('inf'), 0)\n",
    "        else:\n",
    "            A[i,j] = (v, 1)\n",
    "            A1[i,j] = v\n",
    "    D = shortest_path_FW(A)\n",
    "    D1 = Matrix.sparse(FP32, n, n)\n",
    "    for i, j, v in D:\n",
    "        D1[i,j] = v[0]\n",
    "    print(A1)\n",
    "    print(D1)\n",
    "    pred = dict()\n",
    "    with FP32.plus:\n",
    "        for i in range(n):\n",
    "            pred[i] = dict()\n",
    "            d = D1.extract_row(i)\n",
    "            d[i] = 0\n",
    "            for j in d.indices:\n",
    "                col_j = A1.extract_col(j)\n",
    "                col_j.emult(d, mult_op=FP32.plus, out=col_j)\n",
    "                #pred_j = list((col_j == d[j]).indices)\n",
    "                #if pred_j:\n",
    "                pred[i][j] = list((col_j == d[j]).indices)\n",
    "    PC = Vector.sparse(FP32, n)\n",
    "    paths = dict()\n",
    "    v_paths = dict()\n",
    "    for v in range(n):\n",
    "        S_exclude_v = S - S_sv[v] - S_vt[v]\n",
    "        v_paths[v] = []\n",
    "        for s in D.extract_col(v).indices:\n",
    "            for t in D.extract_row(v).indices:\n",
    "                if s != v and t!=v and s!=t and D[s, t][0] == D[s, v][0] + D[v, t][0]:\n",
    "                    delta = states[t] - states[s]\n",
    "                    if delta <= 0:\n",
    "                        continue\n",
    "                    w = delta / S_exclude_v\n",
    "                    if (s, t) not in paths:\n",
    "                        paths[(s,t)] = st_paths(pred[s], s, t)\n",
    "                    for p in paths[(s, t)]:\n",
    "                        if v in p:\n",
    "                            v_paths[v].append(p)\n",
    "                    if v in PC.indices:\n",
    "                        PC[v] += D[s, v][1] * D[v, t][1] / D[s, t][1] * w\n",
    "                    else:\n",
    "                        PC[v] = D[s, v][1] * D[v, t][1] / D[s, t][1] * w\n",
    "    return PC, v_paths, pred\n",
    "\n",
    "def st_paths(pred, s, t):\n",
    "    stack = [[t, 0]]\n",
    "    top = 0\n",
    "    paths = []\n",
    "    while top >= 0:\n",
    "        node, i = stack[top]\n",
    "        if node == s:\n",
    "            paths.append([p for p, n in reversed(stack[:top+1])])\n",
    "        if node not in pred:\n",
    "            continue\n",
    "        if len(pred[node]) > i:\n",
    "            top += 1\n",
    "            if top == len(stack):\n",
    "                stack.append([pred[node][i],0])\n",
    "            else:\n",
    "                stack[top] = [pred[node][i],0]\n",
    "        else:\n",
    "            stack[top-1][1] += 1\n",
    "            top -= 1\n",
    "    return paths\n",
    "    \n",
    "            "
   ]
  },
  {
   "cell_type": "code",
   "execution_count": 11,
   "id": "046bf061",
   "metadata": {},
   "outputs": [
    {
     "name": "stdout",
     "output_type": "stream",
     "text": [
      "      0  1  2  3  4  5\n",
      "  0|   9.0   3.0   4.0|  0\n",
      "  1|      8.0      7.0|  1\n",
      "  2|                  |  2\n",
      "  3|            6.01.0|  3\n",
      "  4|      4.0         |  4\n",
      "  5|            2.0   |  5\n",
      "      0  1  2  3  4  5\n",
      "      0  1  2  3  4  5\n",
      "  0|   9.010.03.06.04.0|  0\n",
      "  1|      8.0   9.07.0|  1\n",
      "  2|                  |  2\n",
      "  3|      7.0   3.01.0|  3\n",
      "  4|      4.0         |  4\n",
      "  5|      6.0   2.0   |  5\n",
      "      0  1  2  3  4  5\n",
      "0|\n",
      "1|\n",
      "2|\n",
      "3|0.125\n",
      "4|0.75\n",
      "5|0.5\n",
      "{0: {0: [], 1: [0], 2: [4], 3: [0], 4: [5], 5: [0, 3]}, 1: {1: [], 2: [1], 4: [5], 5: [1]}, 2: {2: []}, 3: {2: [4], 3: [], 4: [5], 5: [3]}, 4: {2: [4], 4: []}, 5: {2: [4], 4: [5], 5: []}}\n"
     ]
    }
   ],
   "source": [
    "PC, paths, pred = algebraic_PC_with_paths(Adj, states)\n",
    "print(PC)\n",
    "print(pred)"
   ]
  },
  {
   "cell_type": "code",
   "execution_count": 12,
   "id": "e066ff62",
   "metadata": {},
   "outputs": [
    {
     "name": "stdout",
     "output_type": "stream",
     "text": [
      "Local cdn resources have problems on chrome/safari when used in jupyter-notebook. \n"
     ]
    },
    {
     "data": {
      "text/html": [
       "\n",
       "        <iframe\n",
       "            width=\"100%\"\n",
       "            height=\"300\"\n",
       "            src=\"sssp.html\"\n",
       "            frameborder=\"0\"\n",
       "            allowfullscreen\n",
       "            \n",
       "        ></iframe>\n",
       "        "
      ],
      "text/plain": [
       "<IPython.lib.display.IFrame at 0x7f9da238e040>"
      ]
     },
     "execution_count": 12,
     "metadata": {},
     "output_type": "execute_result"
    }
   ],
   "source": [
    "v = 0\n",
    "if v in pred:\n",
    "    N = net.Network(notebook=True, directed=True, height=300)\n",
    "    for k, val in Adj.items():\n",
    "        i = k[0]\n",
    "        j = k[1]\n",
    "        N.add_node(i, label=str(i), shape='circle')\n",
    "        N.add_node(j, label=str(j), shape='circle')\n",
    "        if j not in pred[v]:\n",
    "            continue\n",
    "        if i in pred[v][j]:\n",
    "            N.add_edge(i, j, label=str(val))     \n",
    "N.show('sssp.html')\n"
   ]
  },
  {
   "cell_type": "code",
   "execution_count": 13,
   "id": "dd26134b",
   "metadata": {},
   "outputs": [
    {
     "name": "stdout",
     "output_type": "stream",
     "text": [
      "Local cdn resources have problems on chrome/safari when used in jupyter-notebook. \n"
     ]
    },
    {
     "data": {
      "text/html": [
       "\n",
       "        <iframe\n",
       "            width=\"100%\"\n",
       "            height=\"300\"\n",
       "            src=\"sssp.html\"\n",
       "            frameborder=\"0\"\n",
       "            allowfullscreen\n",
       "            \n",
       "        ></iframe>\n",
       "        "
      ],
      "text/plain": [
       "<IPython.lib.display.IFrame at 0x7f9da1bc0400>"
      ]
     },
     "execution_count": 13,
     "metadata": {},
     "output_type": "execute_result"
    }
   ],
   "source": [
    "v = 1\n",
    "if v in pred:\n",
    "    N = net.Network(notebook=True, directed=True, height=300)\n",
    "    for k, val in Adj.items():\n",
    "        i = k[0]\n",
    "        j = k[1]\n",
    "        N.add_node(i, label=str(i), shape='circle')\n",
    "        N.add_node(j, label=str(j), shape='circle')\n",
    "        if j not in pred[v]:\n",
    "            continue\n",
    "        if i in pred[v][j]:\n",
    "            N.add_edge(i, j, label=str(val))     \n",
    "N.show('sssp.html')"
   ]
  },
  {
   "cell_type": "code",
   "execution_count": 14,
   "id": "1cbf4b9e",
   "metadata": {},
   "outputs": [
    {
     "name": "stdout",
     "output_type": "stream",
     "text": [
      "Local cdn resources have problems on chrome/safari when used in jupyter-notebook. \n"
     ]
    },
    {
     "data": {
      "text/html": [
       "\n",
       "        <iframe\n",
       "            width=\"100%\"\n",
       "            height=\"300\"\n",
       "            src=\"sssp.html\"\n",
       "            frameborder=\"0\"\n",
       "            allowfullscreen\n",
       "            \n",
       "        ></iframe>\n",
       "        "
      ],
      "text/plain": [
       "<IPython.lib.display.IFrame at 0x7f9db0bcef70>"
      ]
     },
     "execution_count": 14,
     "metadata": {},
     "output_type": "execute_result"
    }
   ],
   "source": [
    "v = 2\n",
    "if v in pred:\n",
    "    N = net.Network(notebook=True, directed=True, height=300)\n",
    "    for k, val in Adj.items():\n",
    "        i = k[0]\n",
    "        j = k[1]\n",
    "        N.add_node(i, label=str(i), shape='circle')\n",
    "        N.add_node(j, label=str(j), shape='circle')\n",
    "        if j not in pred[v]:\n",
    "            continue\n",
    "        if i in pred[v][j]:\n",
    "            N.add_edge(i, j, label=str(val))     \n",
    "N.show('sssp.html')"
   ]
  },
  {
   "cell_type": "code",
   "execution_count": 15,
   "id": "f34eb31f",
   "metadata": {},
   "outputs": [
    {
     "name": "stdout",
     "output_type": "stream",
     "text": [
      "Local cdn resources have problems on chrome/safari when used in jupyter-notebook. \n"
     ]
    },
    {
     "data": {
      "text/html": [
       "\n",
       "        <iframe\n",
       "            width=\"100%\"\n",
       "            height=\"300\"\n",
       "            src=\"sssp.html\"\n",
       "            frameborder=\"0\"\n",
       "            allowfullscreen\n",
       "            \n",
       "        ></iframe>\n",
       "        "
      ],
      "text/plain": [
       "<IPython.lib.display.IFrame at 0x7f9da2412f10>"
      ]
     },
     "execution_count": 15,
     "metadata": {},
     "output_type": "execute_result"
    }
   ],
   "source": [
    "v = 3\n",
    "if v in pred:\n",
    "    N = net.Network(notebook=True, directed=True, height=300)\n",
    "    for k, val in Adj.items():\n",
    "        i = k[0]\n",
    "        j = k[1]\n",
    "        N.add_node(i, label=str(i), shape='circle')\n",
    "        N.add_node(j, label=str(j), shape='circle')\n",
    "        if j not in pred[v]:\n",
    "            continue\n",
    "        if i in pred[v][j]:\n",
    "            N.add_edge(i, j, label=str(val))     \n",
    "N.show('sssp.html')"
   ]
  },
  {
   "cell_type": "code",
   "execution_count": 16,
   "id": "ea3f1017",
   "metadata": {},
   "outputs": [
    {
     "name": "stdout",
     "output_type": "stream",
     "text": [
      "Local cdn resources have problems on chrome/safari when used in jupyter-notebook. \n"
     ]
    },
    {
     "data": {
      "text/html": [
       "\n",
       "        <iframe\n",
       "            width=\"100%\"\n",
       "            height=\"300\"\n",
       "            src=\"sssp.html\"\n",
       "            frameborder=\"0\"\n",
       "            allowfullscreen\n",
       "            \n",
       "        ></iframe>\n",
       "        "
      ],
      "text/plain": [
       "<IPython.lib.display.IFrame at 0x7f9da2424c70>"
      ]
     },
     "execution_count": 16,
     "metadata": {},
     "output_type": "execute_result"
    }
   ],
   "source": [
    "v = 4\n",
    "if v in pred:\n",
    "    N = net.Network(notebook=True, directed=True, height=300)\n",
    "    for k, val in Adj.items():\n",
    "        i = k[0]\n",
    "        j = k[1]\n",
    "        N.add_node(i, label=str(i), shape='circle')\n",
    "        N.add_node(j, label=str(j), shape='circle')\n",
    "        if j not in pred[v]:\n",
    "            continue\n",
    "        if i in pred[v][j]:\n",
    "            N.add_edge(i, j, label=str(val))     \n",
    "N.show('sssp.html')"
   ]
  },
  {
   "cell_type": "code",
   "execution_count": 17,
   "id": "ce8eaf91",
   "metadata": {},
   "outputs": [
    {
     "name": "stdout",
     "output_type": "stream",
     "text": [
      "Local cdn resources have problems on chrome/safari when used in jupyter-notebook. \n"
     ]
    },
    {
     "data": {
      "text/html": [
       "\n",
       "        <iframe\n",
       "            width=\"100%\"\n",
       "            height=\"300\"\n",
       "            src=\"sssp.html\"\n",
       "            frameborder=\"0\"\n",
       "            allowfullscreen\n",
       "            \n",
       "        ></iframe>\n",
       "        "
      ],
      "text/plain": [
       "<IPython.lib.display.IFrame at 0x7f9da2427850>"
      ]
     },
     "execution_count": 17,
     "metadata": {},
     "output_type": "execute_result"
    }
   ],
   "source": [
    "v = 5\n",
    "if v in pred:\n",
    "    N = net.Network(notebook=True, directed=True, height=300)\n",
    "    for k, val in Adj.items():\n",
    "        i = k[0]\n",
    "        j = k[1]\n",
    "        N.add_node(i, label=str(i), shape='circle')\n",
    "        N.add_node(j, label=str(j), shape='circle')\n",
    "        if j not in pred[v]:\n",
    "            continue\n",
    "        if i in pred[v][j]:\n",
    "            N.add_edge(i, j, label=str(val))     \n",
    "N.show('sssp.html')"
   ]
  },
  {
   "cell_type": "code",
   "execution_count": null,
   "id": "5ca113af",
   "metadata": {},
   "outputs": [],
   "source": []
  },
  {
   "cell_type": "code",
   "execution_count": null,
   "id": "69b69f22",
   "metadata": {},
   "outputs": [],
   "source": []
  }
 ],
 "metadata": {
  "kernelspec": {
   "display_name": "Python 3 (ipykernel)",
   "language": "python",
   "name": "python3"
  },
  "language_info": {
   "codemirror_mode": {
    "name": "ipython",
    "version": 3
   },
   "file_extension": ".py",
   "mimetype": "text/x-python",
   "name": "python",
   "nbconvert_exporter": "python",
   "pygments_lexer": "ipython3",
   "version": "3.9.15"
  }
 },
 "nbformat": 4,
 "nbformat_minor": 5
}
